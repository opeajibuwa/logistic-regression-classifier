{
 "cells": [
  {
   "cell_type": "markdown",
   "id": "e669feb3",
   "metadata": {},
   "source": [
    "#### Import dependencies"
   ]
  },
  {
   "cell_type": "code",
   "execution_count": 2,
   "id": "1d93726f",
   "metadata": {},
   "outputs": [],
   "source": [
    "import matplotlib.pyplot as plt\n",
    "import numpy as np\n",
    "import pandas as pd\n",
    "import warnings\n",
    "import os\n",
    "from collections import defaultdict"
   ]
  },
  {
   "cell_type": "code",
   "execution_count": 3,
   "id": "8147e6f3",
   "metadata": {},
   "outputs": [],
   "source": [
    "import sys\n",
    "import pathlib\n",
    "from pathlib import Path\n",
    "import seaborn as sns\n",
    "import matplotlib.pyplot as plt\n",
    "\n",
    "np.set_printoptions(precision=4)\n",
    "np.set_printoptions(formatter={'float': \"{:0.4f}\".format})"
   ]
  },
  {
   "cell_type": "code",
   "execution_count": 4,
   "id": "356f4168",
   "metadata": {},
   "outputs": [],
   "source": [
    "warnings.filterwarnings('ignore')"
   ]
  },
  {
   "cell_type": "markdown",
   "id": "63fb0024",
   "metadata": {},
   "source": [
    "#### Func to load data in"
   ]
  },
  {
   "cell_type": "code",
   "execution_count": 5,
   "id": "e22cfbe1",
   "metadata": {},
   "outputs": [],
   "source": [
    "def load_data(path):\n",
    "    data = pd.read_csv(path)\n",
    "    return data"
   ]
  },
  {
   "cell_type": "markdown",
   "id": "a5682e33",
   "metadata": {},
   "source": [
    "##### Call load_data func"
   ]
  },
  {
   "cell_type": "code",
   "execution_count": 6,
   "id": "c581d9c2",
   "metadata": {},
   "outputs": [],
   "source": [
    "path1 = \"IA2-train.csv\"\n",
    "train = load_data(path1)\n",
    "path2 = \"IA2-dev.csv\"\n",
    "dev = load_data(path2)"
   ]
  },
  {
   "cell_type": "markdown",
   "id": "e4b9bf3b",
   "metadata": {},
   "source": [
    "#### Data preprocessing function"
   ]
  },
  {
   "cell_type": "code",
   "execution_count": 7,
   "id": "0e6ba749",
   "metadata": {},
   "outputs": [],
   "source": [
    "def preprocess_data(train, dev):\n",
    "    column = ['Age', 'Annual_Premium', 'Vintage']\n",
    "    column_mean = []\n",
    "    column_std = []\n",
    "    \n",
    "    for col in column:\n",
    "        column_mean.append(train[col].mean())\n",
    "        column_std.append(train[col].std())\n",
    "        train[col] = (train[col] - train[col].mean()) / train[col].std()\n",
    "        \n",
    "\n",
    "    for index, col in enumerate(column):\n",
    "        dev[col] = (dev[col] - column_mean[index]) / column_std[index]\n",
    "        \n",
    "    return train, dev"
   ]
  },
  {
   "cell_type": "markdown",
   "id": "4c86d34e",
   "metadata": {},
   "source": [
    "#### Other helper functions"
   ]
  },
  {
   "cell_type": "code",
   "execution_count": 8,
   "id": "7da5bf88",
   "metadata": {},
   "outputs": [],
   "source": [
    "def sigmoid_func(learned_hypo):\n",
    "    return 1 / (1 + np.exp(-learned_hypo))\n",
    "\n",
    "def cal_accuracy(y_pred, y_true):\n",
    "    y_pred = [1 if x >= 0.5 else 0 for x in y_pred]\n",
    "    return (y_pred == y_true).mean()"
   ]
  },
  {
   "cell_type": "markdown",
   "id": "b64af8e0",
   "metadata": {},
   "source": [
    "#### Ridge logistic regression func"
   ]
  },
  {
   "cell_type": "code",
   "execution_count": 9,
   "id": "2929f291",
   "metadata": {},
   "outputs": [],
   "source": [
    "def logistic_regression(X, y, lr, lambd, dev_X, dev_y):\n",
    "    weight = np.zeros(X.shape[1])\n",
    "    stopping_threshold = 1e-8\n",
    "    \n",
    "    for itr in range(10000):\n",
    "        gradient = ((X.multiply(y - sigmoid_func(X.dot(weight)), axis=0)).mean())\n",
    "        weight = weight + lr * gradient\n",
    "        weight[1:] = weight[1:] - lr * lambd * weight[1:]\n",
    "        \n",
    "        train_acc = cal_accuracy(sigmoid_func(X.dot(weight)), y)\n",
    "        dev_acc = cal_accuracy(sigmoid_func(dev_X.dot(weight)), dev_y)\n",
    "        \n",
    "        loss = ((-1 * y * np.log(sigmoid_func(X.dot(weight)))) - ((np.ones(X.shape[0]) - y) * np.log(\n",
    "            np.ones(X.shape[0]) - sigmoid_func(X.dot(weight))))).mean() + lambd * np.sum(np.power(weight[1:], 2))\n",
    "        \n",
    "        # print(\"iter={}, loss={}, train_acc={}, dev_acc={}\".format(itr + 1, loss, train_acc, dev_acc))\n",
    "        \n",
    "        if np.linalg.norm(gradient) <= stopping_threshold:\n",
    "            break\n",
    "            \n",
    "    train_acc = cal_accuracy(sigmoid_func(X.dot(weight)), y)\n",
    "    dev_acc = cal_accuracy(sigmoid_func(dev_X.dot(weight)), dev_y)\n",
    "    loss = ((-1 * y * np.log(sigmoid_func(X.dot(weight)))) - ((np.ones(X.shape[0]) - y) * np.log(\n",
    "            np.ones(X.shape[0]) - sigmoid_func(X.dot(weight))))).mean() + lambd * np.sum(np.power(weight[1:], 2))\n",
    "    \n",
    "    print(\"iter={}, loss={}, regularizer={}, train_acc={}, dev_acc={}\".format(itr + 1, loss, lambd, train_acc, dev_acc))\n",
    "    \n",
    "    return weight, train_acc, dev_acc"
   ]
  },
  {
   "cell_type": "markdown",
   "id": "4b21f553",
   "metadata": {},
   "source": [
    "#### Part 1(a): Plot the training accuracy and validation accuracy of the learned model as a function of i used for the regularizer"
   ]
  },
  {
   "cell_type": "code",
   "execution_count": 127,
   "id": "37e0f13c",
   "metadata": {
    "scrolled": true
   },
   "outputs": [
    {
     "name": "stdout",
     "output_type": "stream",
     "text": [
      "iter=10000, loss=0.436495700716022, regularizer=0.0001, train_acc=0.7871666666666667, dev_acc=0.7851\n",
      "iter=10000, loss=0.4465084683299602, regularizer=0.001, train_acc=0.787, dev_acc=0.7851\n",
      "iter=10000, loss=0.5080134094516261, regularizer=0.01, train_acc=0.786, dev_acc=0.7854\n",
      "iter=10000, loss=0.6297343425561405, regularizer=0.1, train_acc=0.7815, dev_acc=0.7831\n",
      "iter=10000, loss=0.6879717752272939, regularizer=1, train_acc=0.7468333333333333, dev_acc=0.7474\n",
      "iter=10000, loss=0.6924807840898182, regularizer=10.0, train_acc=0.5853333333333334, dev_acc=0.5936\n",
      "iter=10000, loss=0.6931036243719721, regularizer=100.0, train_acc=0.5046666666666667, dev_acc=0.5066\n",
      "iter=10000, loss=nan, regularizer=1000.0, train_acc=0.5046666666666667, dev_acc=0.5066\n",
      "iter=10000, loss=nan, regularizer=10000.0, train_acc=0.5046666666666667, dev_acc=0.5066\n"
     ]
    }
   ],
   "source": [
    "weight_dict = defaultdict(list)\n",
    "regularizers = [1e-4, 1e-3, 1e-2, 1e-1, 1, 1e1, 1e2, 1e3, 1e4]\n",
    "\n",
    "train, dev = preprocess_data(train, dev)\n",
    "\n",
    "train_X = train.iloc[:, :-1]\n",
    "train_y = train.iloc[:, -1]\n",
    "dev_X = dev.iloc[:, :-1]\n",
    "dev_y = dev.iloc[:, -1]\n",
    "train_acc_array = []\n",
    "dev_acc_array = []\n",
    "    \n",
    "for regularizer in regularizers:\n",
    "    weight, train_acc, dev_acc = logistic_regression(train_X, train_y, 0.01, regularizer, dev_X, dev_y)\n",
    "    train_acc_array.append(round(train_acc, 3))\n",
    "    dev_acc_array.append(round(dev_acc, 3))\n",
    "    weight_dict[regularizer] = weight\n",
    "\n",
    "train_acc_df = pd.DataFrame({'regularizers': regularizers, 'accuracy': train_acc_array})\n",
    "dev_acc_df = pd.DataFrame({'regularizers': regularizers, 'accuracy': dev_acc_array})"
   ]
  },
  {
   "cell_type": "code",
   "execution_count": 209,
   "id": "c012fb72",
   "metadata": {},
   "outputs": [
    {
     "data": {
      "text/plain": [
       "defaultdict(list,\n",
       "            {0.0001: dummy                      -0.538460\n",
       "             Gender                      0.003256\n",
       "             Age                        -0.364399\n",
       "             Driving_License            -0.466409\n",
       "             Previously_Insured         -2.192550\n",
       "                                           ...   \n",
       "             Policy_Sales_Channel_157    0.217971\n",
       "             Policy_Sales_Channel_158    0.003215\n",
       "             Policy_Sales_Channel_159    0.000000\n",
       "             Policy_Sales_Channel_160   -0.609874\n",
       "             Policy_Sales_Channel_163    0.088452\n",
       "             Length: 197, dtype: float64,\n",
       "             0.001: dummy                      -0.538390\n",
       "             Gender                      0.005116\n",
       "             Age                        -0.350738\n",
       "             Driving_License            -0.438098\n",
       "             Previously_Insured         -2.112892\n",
       "                                           ...   \n",
       "             Policy_Sales_Channel_157    0.210277\n",
       "             Policy_Sales_Channel_158    0.003102\n",
       "             Policy_Sales_Channel_159    0.000000\n",
       "             Policy_Sales_Channel_160   -0.584882\n",
       "             Policy_Sales_Channel_163    0.085332\n",
       "             Length: 197, dtype: float64,\n",
       "             0.01: dummy                      -0.545281\n",
       "             Gender                      0.017494\n",
       "             Age                        -0.246892\n",
       "             Driving_License            -0.250377\n",
       "             Previously_Insured         -1.583421\n",
       "                                           ...   \n",
       "             Policy_Sales_Channel_157    0.153514\n",
       "             Policy_Sales_Channel_158    0.002245\n",
       "             Policy_Sales_Channel_159    0.000000\n",
       "             Policy_Sales_Channel_160   -0.403002\n",
       "             Policy_Sales_Channel_163    0.062240\n",
       "             Length: 197, dtype: float64,\n",
       "             0.1: dummy                      -0.427060\n",
       "             Gender                      0.043132\n",
       "             Age                         0.007833\n",
       "             Driving_License            -0.004697\n",
       "             Previously_Insured         -0.615228\n",
       "                                           ...   \n",
       "             Policy_Sales_Channel_157    0.042659\n",
       "             Policy_Sales_Channel_158    0.000568\n",
       "             Policy_Sales_Channel_159    0.000000\n",
       "             Policy_Sales_Channel_160   -0.087161\n",
       "             Policy_Sales_Channel_163    0.017183\n",
       "             Length: 197, dtype: float64,\n",
       "             1: dummy                      -0.102478\n",
       "             Gender                      0.014338\n",
       "             Age                         0.052534\n",
       "             Driving_License             0.000352\n",
       "             Previously_Insured         -0.111399\n",
       "                                           ...   \n",
       "             Policy_Sales_Channel_157    0.006073\n",
       "             Policy_Sales_Channel_158    0.000129\n",
       "             Policy_Sales_Channel_159    0.000000\n",
       "             Policy_Sales_Channel_160   -0.013074\n",
       "             Policy_Sales_Channel_163    0.002392\n",
       "             Length: 197, dtype: float64,\n",
       "             10.0: dummy                      -0.027596\n",
       "             Gender                      0.001675\n",
       "             Age                         0.007543\n",
       "             Driving_License             0.000023\n",
       "             Previously_Insured         -0.011434\n",
       "                                           ...   \n",
       "             Policy_Sales_Channel_157    0.000592\n",
       "             Policy_Sales_Channel_158    0.000015\n",
       "             Policy_Sales_Channel_159    0.000000\n",
       "             Policy_Sales_Channel_160   -0.001362\n",
       "             Policy_Sales_Channel_163    0.000229\n",
       "             Length: 197, dtype: float64,\n",
       "             100.0: dummy                      -0.018667\n",
       "             Gender                      0.000000\n",
       "             Age                         0.000000\n",
       "             Driving_License             0.000000\n",
       "             Previously_Insured          0.000000\n",
       "                                           ...   \n",
       "             Policy_Sales_Channel_157    0.000000\n",
       "             Policy_Sales_Channel_158    0.000000\n",
       "             Policy_Sales_Channel_159    0.000000\n",
       "             Policy_Sales_Channel_160    0.000000\n",
       "             Policy_Sales_Channel_163    0.000000\n",
       "             Length: 197, dtype: float64,\n",
       "             1000.0: dummy                      NaN\n",
       "             Gender                     NaN\n",
       "             Age                        NaN\n",
       "             Driving_License            NaN\n",
       "             Previously_Insured         NaN\n",
       "                                         ..\n",
       "             Policy_Sales_Channel_157   NaN\n",
       "             Policy_Sales_Channel_158   NaN\n",
       "             Policy_Sales_Channel_159   NaN\n",
       "             Policy_Sales_Channel_160   NaN\n",
       "             Policy_Sales_Channel_163   NaN\n",
       "             Length: 197, dtype: float64,\n",
       "             10000.0: dummy                      NaN\n",
       "             Gender                     NaN\n",
       "             Age                        NaN\n",
       "             Driving_License            NaN\n",
       "             Previously_Insured         NaN\n",
       "                                         ..\n",
       "             Policy_Sales_Channel_157   NaN\n",
       "             Policy_Sales_Channel_158   NaN\n",
       "             Policy_Sales_Channel_159   NaN\n",
       "             Policy_Sales_Channel_160   NaN\n",
       "             Policy_Sales_Channel_163   NaN\n",
       "             Length: 197, dtype: float64})"
      ]
     },
     "execution_count": 209,
     "metadata": {},
     "output_type": "execute_result"
    }
   ],
   "source": [
    "weight_dict"
   ]
  },
  {
   "cell_type": "markdown",
   "id": "2f6618d3",
   "metadata": {},
   "source": [
    "###### Plot the accuracy curves"
   ]
  },
  {
   "cell_type": "code",
   "execution_count": 137,
   "id": "b0dffa82",
   "metadata": {
    "scrolled": false
   },
   "outputs": [
    {
     "name": "stdout",
     "output_type": "stream",
     "text": [
      "Regularization Plot...\t\n",
      "Done.\n",
      "\n"
     ]
    },
    {
     "data": {
      "image/png": "[encoded data removed]",
      "text/plain": [
       "<Figure size 576x432 with 1 Axes>"
      ]
     },
     "metadata": {
      "needs_background": "light"
     },
     "output_type": "display_data"
    }
   ],
   "source": [
    "print('Regularization Plot...\\t')\n",
    "\n",
    "fig, ax3 = plt.subplots(figsize=(8, 6), tight_layout=True)\n",
    "ax3.semilogx(train_acc_df.regularizers, train_acc_df.accuracy,\n",
    "             color='r', marker='o', markerfacecolor='m', zorder=1.5, alpha=0.5)\n",
    "\n",
    "ax3.semilogx(dev_acc_df.regularizers, dev_acc_df.accuracy,\n",
    "             color='b', marker='x', markerfacecolor='r', zorder=1.5, alpha=0.5)\n",
    "\n",
    "min_axis = min(train_acc_df.accuracy.min(), dev_acc_df.accuracy.min())\n",
    "max_axis = max(train_acc_df.accuracy.max(), dev_acc_df.accuracy.max())\n",
    "\n",
    "ax3.set_ylabel(f'accuracy', color='r')\n",
    "ax3.set_xlabel(f'$\\\\lambda$, regularization size')\n",
    "ax3.set_xlim([1e-4, 1e4])\n",
    "ax3.set_ylim(0.495, 0.8)\n",
    "ax3.set_title(f\"$\\\\mathcal{{L}}_2$, $\\\\alpha = {0.01}$, epochs = {10000}: Classification Accuracy\",\n",
    "              color='k', weight='normal', size=10)\n",
    "ax3.legend([\"training\", \"validation\"], loc=\"lower left\")\n",
    "\n",
    "plt.savefig(\"l2_train_dev_acc_cmp.jpg\")\n",
    "print('Done.\\n')"
   ]
  },
  {
   "cell_type": "markdown",
   "id": "e3aa4558",
   "metadata": {},
   "source": [
    "####### The training class accuracy remain approximately constant for a while, then generally reduces as we increase lambda(10^-2, 10^4). This is the case because, increase in lambda, directly increase the loss function and hence approximation error. The validation class accuracy also remain approximately constant for a while, then generally reduces as we increase lambda within the given range. The best validation accuracy in this range  is lambda = 10^-2 with an accuracy of 78.54%. This is illustrated in the figure below."
   ]
  },
  {
   "cell_type": "markdown",
   "id": "84ff8274",
   "metadata": {},
   "source": [
    "#### Part 1(b): Report for each of the three lambda values, the resulting model's top 5 features with the largest weight magnitude "
   ]
  },
  {
   "cell_type": "code",
   "execution_count": 202,
   "id": "8af8b3a4",
   "metadata": {},
   "outputs": [
    {
     "name": "stdout",
     "output_type": "stream",
     "text": [
      "Top 5 features and their corresponding weights for lambda=0.001\n",
      "Previously_Insured         -2.112892\n",
      "Vehicle_Damage              1.836570\n",
      "Policy_Sales_Channel_152   -0.687872\n",
      "Vehicle_Age_1              -0.634887\n",
      "Policy_Sales_Channel_160   -0.584882\n",
      "dtype: float64 \n",
      "\n",
      "Top 5 features and their corresponding weights for lambda=0.01\n",
      "Previously_Insured         -1.583421\n",
      "Vehicle_Damage              1.466526\n",
      "Policy_Sales_Channel_152   -0.545381\n",
      "dummy                      -0.545281\n",
      "Vehicle_Age_1              -0.495377\n",
      "dtype: float64 \n",
      "\n",
      "Top 5 features and their corresponding weights for lambda=0.1\n",
      "Vehicle_Damage              0.651357\n",
      "Previously_Insured         -0.615228\n",
      "dummy                      -0.427060\n",
      "Policy_Sales_Channel_152   -0.250101\n",
      "Vehicle_Age_1              -0.224794\n",
      "dtype: float64 \n",
      "\n"
     ]
    }
   ],
   "source": [
    "for lambd in [1e-3, 1e-2, 1e-1]:\n",
    "    weight_ = weight_dict[lambd]\n",
    "    sortedweight = weight_.abs().sort_values(ascending=False)[:5]\n",
    "    biggest_weights = weight_.loc[list(sortedweight.index.values)]\n",
    "    print(\"Top 5 features and their corresponding weights for lambda={}\".format(lambd)) \n",
    "    print(biggest_weights, \"\\n\")"
   ]
  },
  {
   "cell_type": "markdown",
   "id": "0832d521",
   "metadata": {},
   "source": [
    "####### The resulting top five features with respect to their weight magnitude are illustrated below with lambda values of\n",
    "10^-3, 10^-2 and 10^-1. Interestingly, in this range, there is no much difference in the selected top 5 features. However,\n",
    "as the value of lambda increases outside this range, the top features gradually begin to differ. This can be interpreted as automatic feature mapping during the regression process. The optimization process automatically associates the most important features with larger weights relative to the other features."
   ]
  },
  {
   "cell_type": "markdown",
   "id": "140d1d96",
   "metadata": {},
   "source": [
    "#### Part1(c): Compute the sparsity of the model and plot it as a function of lambda"
   ]
  },
  {
   "cell_type": "code",
   "execution_count": 213,
   "id": "3dd2f252",
   "metadata": {},
   "outputs": [
    {
     "data": {
      "image/png": "[encoded data removed]",
      "text/plain": [
       "<Figure size 576x432 with 1 Axes>"
      ]
     },
     "metadata": {
      "needs_background": "light"
     },
     "output_type": "display_data"
    }
   ],
   "source": [
    "nz_weight_count = []\n",
    "regs = []\n",
    "\n",
    "for key in weight_dict.keys():\n",
    "    nz_weight_count.append(np.count_nonzero(weight_dict[key]==0) or np.count_nonzero(np.isnan(weight_dict[key])))\n",
    "    regs.append(str(key))\n",
    "\n",
    "fig, ax = plt.subplots(figsize=(8, 6), tight_layout=True)\n",
    "ax.bar(regs, nz_weight_count)\n",
    "plt.title('Sparsity for different \\u03BB')\n",
    "plt.savefig('l2_sparsity.jpg')"
   ]
  },
  {
   "cell_type": "markdown",
   "id": "70b277bd",
   "metadata": {},
   "source": [
    "####### It can be observed from the figure below, that as we increase lambda, the model sparsity increases. Increase in lambda numerically forces the weights to be very close to zero. When lambda reaches 1000, 10000, we observed the model sparsity becomes equal to the number of features."
   ]
  },
  {
   "cell_type": "markdown",
   "id": "1d8b16dd",
   "metadata": {},
   "source": [
    "#### Part 2 - Logistic regression with L2 regularization with noisy data"
   ]
  },
  {
   "cell_type": "code",
   "execution_count": 13,
   "id": "16372e40",
   "metadata": {},
   "outputs": [
    {
     "name": "stdout",
     "output_type": "stream",
     "text": [
      "iter=10000, loss=0.6587951299377414, regularizer=0.0001, train_acc=0.6111666666666666, dev_acc=0.7875\n",
      "iter=10000, loss=0.6596454163854043, regularizer=0.001, train_acc=0.6111666666666666, dev_acc=0.7879\n",
      "iter=10000, loss=0.665814638853911, regularizer=0.01, train_acc=0.6105, dev_acc=0.7865\n",
      "iter=10000, loss=0.682715271237709, regularizer=0.1, train_acc=0.6091666666666666, dev_acc=0.7814\n",
      "iter=10000, loss=0.6922634405827164, regularizer=1, train_acc=0.5948333333333333, dev_acc=0.7435\n",
      "iter=10000, loss=0.6930113621226076, regularizer=10.0, train_acc=0.5041666666666667, dev_acc=0.5068\n",
      "iter=10000, loss=0.6931124579357992, regularizer=100.0, train_acc=0.5041666666666667, dev_acc=0.5066\n",
      "iter=10000, loss=nan, regularizer=1000.0, train_acc=0.5041666666666667, dev_acc=0.5066\n",
      "iter=10000, loss=nan, regularizer=10000.0, train_acc=0.5041666666666667, dev_acc=0.5066\n"
     ]
    }
   ],
   "source": [
    "path3 = \"IA2-train-noisy.csv\"\n",
    "\n",
    "noisy_data = load_data(path3)\n",
    "train_noisy, dev = preprocess_data(noisy_data, dev)\n",
    "\n",
    "weight_dict = defaultdict(list)\n",
    "regularizers = [1e-4, 1e-3, 1e-2, 1e-1, 1, 1e1, 1e2, 1e3, 1e4]\n",
    "\n",
    "train_X = train_noisy.iloc[:, :-1]\n",
    "train_y = train_noisy.iloc[:, -1]\n",
    "dev_X = dev.iloc[:, :-1]\n",
    "dev_y = dev.iloc[:, -1]\n",
    "train_acc_array = []\n",
    "dev_acc_array = []\n",
    "    \n",
    "for regularizer in regularizers:\n",
    "    weight, train_acc, dev_acc = logistic_regression(train_X, train_y, 0.01, regularizer, dev_X, dev_y)\n",
    "    train_acc_array.append(round(train_acc, 3))\n",
    "    dev_acc_array.append(round(dev_acc, 3))\n",
    "    weight_dict[regularizer] = weight\n",
    "\n",
    "train_acc_df = pd.DataFrame({'regularizers': regularizers, 'accuracy': train_acc_array})\n",
    "dev_acc_df = pd.DataFrame({'regularizers': regularizers, 'accuracy': dev_acc_array})"
   ]
  },
  {
   "cell_type": "code",
   "execution_count": 14,
   "id": "e98c09e3",
   "metadata": {
    "scrolled": true
   },
   "outputs": [
    {
     "name": "stdout",
     "output_type": "stream",
     "text": [
      "Regularization Plot...\t\n",
      "Done.\n",
      "\n"
     ]
    },
    {
     "data": {
      "image/png": "[encoded data removed]",
      "text/plain": [
       "<Figure size 576x432 with 1 Axes>"
      ]
     },
     "metadata": {
      "needs_background": "light"
     },
     "output_type": "display_data"
    }
   ],
   "source": [
    "print('Regularization Plot...\\t')\n",
    "\n",
    "fig, ax3 = plt.subplots(figsize=(8, 6), tight_layout=True)\n",
    "ax3.semilogx(train_acc_df.regularizers, train_acc_df.accuracy,\n",
    "             color='r', marker='o', markerfacecolor='m', zorder=1.5, alpha=0.5)\n",
    "\n",
    "ax3.semilogx(dev_acc_df.regularizers, dev_acc_df.accuracy,\n",
    "             color='b', marker='x', markerfacecolor='r', zorder=1.5, alpha=0.5)\n",
    "\n",
    "min_axis = min(train_acc_df.accuracy.min(), dev_acc_df.accuracy.min())\n",
    "max_axis = max(train_acc_df.accuracy.max(), dev_acc_df.accuracy.max())\n",
    "\n",
    "ax3.set_ylabel(f'accuracy', color='r')\n",
    "ax3.set_xlabel(f'$\\\\lambda$, regularization size')\n",
    "ax3.set_xlim([1e-4, 1e4])\n",
    "ax3.set_ylim(0.495, 0.8)\n",
    "ax3.set_title(f\"$\\\\mathcal{{L}}_2$, $\\\\alpha = {0.01}$, epochs = {10000}: Classification Accuracy\",\n",
    "              color='k', weight='normal', size=10)\n",
    "ax3.legend([\"training\", \"validation\"], loc=\"lower left\")\n",
    "\n",
    "plt.savefig(\"l2_noisy_train_dev_acc_cmp.jpg\")\n",
    "print('Done.\\n')"
   ]
  },
  {
   "cell_type": "markdown",
   "id": "1798be26",
   "metadata": {},
   "source": [
    "####### Some of the observed differences between the former model and the one trained with noisy data are:\n",
    "1. The training accuracy dropped significantly in the model trained with the noisy data compared to the former model. This is expected since about 30% of the labels for the training data have been flipped and thus reducing the accuracy of the predictions of the model. \n",
    "2. Unsurprisingly, the validation accuracy remains the same and is comparable to what was obtained under the former model. An obvious explanation for this behavior is due to the effect of the regularization parameter. The L2 regularizer ensures that our model that does not overfit on the noisy training data so that it can have good generalization performance when tested on new, unseen data.\n",
    "3. Another notable difference is the decrease in the size of the feature weights learned in the model trained with the noisy data. There is a noticeable reduction in the size of the weights of the top-5 features in the model trained with the noisy data. This behavior can be attributed to the effect of the regularization parameter which acts proportionately to to the size of the learned weights. \n",
    "\n",
    "Regularization penalizes the feature weights coefficients of the noisy training instances to prevent our model from picking up the noise or pecularities or imagine a false pattern where there is none.\n",
    "\n",
    "It does this so that it can keep our model robust and generally improve its generalization performance to unseen data."
   ]
  },
  {
   "cell_type": "markdown",
   "id": "48d0c4ba",
   "metadata": {},
   "source": [
    "#### Part 3 - Logistic regression with L1 (Lasso) regularization"
   ]
  },
  {
   "cell_type": "code",
   "execution_count": 19,
   "id": "780c0d8c",
   "metadata": {},
   "outputs": [],
   "source": [
    "def lasso_regression(X, y, lr, lambd, dev_X, dev_y):\n",
    "    weight = np.zeros(X.shape[1])\n",
    "    stopping_threshold = 1e-8\n",
    "    \n",
    "    for itr in range(10000):\n",
    "        gradient = ((X.multiply(y - sigmoid_func(X.dot(weight)), axis=0)).mean())\n",
    "        weight = weight + lr * gradient\n",
    "        weight[1:] = np.sign(weight[1:]) * np.maximum(np.abs(weight[1:]) - (lr * lambd), np.zeros(weight[1:].shape))\n",
    "        \n",
    "        train_acc = cal_accuracy(sigmoid_func(X.dot(weight)), y)\n",
    "        dev_acc = cal_accuracy(sigmoid_func(dev_X.dot(weight)), dev_y)\n",
    "        \n",
    "        loss = ((-1 * y * np.log(sigmoid_func(X.dot(weight)))) - ((np.ones(X.shape[0]) - y) * np.log(\n",
    "            np.ones(X.shape[0]) - sigmoid_func(X.dot(weight))))).mean() + lambd * np.sum(np.abs(weight[1:]))\n",
    "        \n",
    "        # print(\"iter={}, loss={}, train_acc={}, dev_acc={}\".format(itr + 1, loss, train_acc, dev_acc))\n",
    "        \n",
    "        if np.linalg.norm(gradient) <= stopping_threshold:\n",
    "            break\n",
    "            \n",
    "    train_acc = cal_accuracy(sigmoid_func(X.dot(weight)), y)\n",
    "    dev_acc = cal_accuracy(sigmoid_func(dev_X.dot(weight)), dev_y)\n",
    "    loss = ((-1 * y * np.log(sigmoid_func(X.dot(weight)))) - ((np.ones(X.shape[0]) - y) * np.log(\n",
    "    np.ones(X.shape[0]) - sigmoid_func(X.dot(weight))))).mean() + lambd * np.sum(np.power(weight[1:], 2))\n",
    "\n",
    "    print(\"iter={}, loss={}, regularizer={}, train_acc={}, dev_acc={}\".format(itr + 1, loss, lambd, train_acc, dev_acc))\n",
    "\n",
    "    return weight, train_acc, dev_acc"
   ]
  },
  {
   "cell_type": "markdown",
   "id": "9d36dee0",
   "metadata": {},
   "source": [
    "#### Part 3(a): Plot the training accuracy and validation accuracy of the learned model as a function of i used for the regularizer"
   ]
  },
  {
   "cell_type": "code",
   "execution_count": 20,
   "id": "aa4f256e",
   "metadata": {},
   "outputs": [
    {
     "name": "stdout",
     "output_type": "stream",
     "text": [
      "iter=10000, loss=0.436495700716022, regularizer=0.0001, train_acc=0.7871666666666667, dev_acc=0.7701\n",
      "iter=10000, loss=0.4465084683299602, regularizer=0.001, train_acc=0.787, dev_acc=0.7697\n",
      "iter=10000, loss=0.5080134094516261, regularizer=0.01, train_acc=0.786, dev_acc=0.7676\n",
      "iter=10000, loss=0.6297343425561405, regularizer=0.1, train_acc=0.7815, dev_acc=0.7874\n",
      "iter=10000, loss=0.6879717752272939, regularizer=1, train_acc=0.7468333333333333, dev_acc=0.5066\n",
      "iter=10000, loss=0.6924807840898182, regularizer=10.0, train_acc=0.5853333333333334, dev_acc=0.5066\n",
      "iter=10000, loss=0.6931036243719721, regularizer=100.0, train_acc=0.5046666666666667, dev_acc=0.5066\n",
      "iter=10000, loss=nan, regularizer=1000.0, train_acc=0.5046666666666667, dev_acc=0.5066\n",
      "iter=10000, loss=nan, regularizer=10000.0, train_acc=0.5046666666666667, dev_acc=0.5066\n"
     ]
    }
   ],
   "source": [
    "weight_dict = defaultdict(list)\n",
    "regularizers = [1e-4, 1e-3, 1e-2, 1e-1, 1, 1e1, 1e2, 1e3, 1e4]\n",
    "\n",
    "train, dev = preprocess_data(train, dev)\n",
    "\n",
    "train_X = train.iloc[:, :-1]\n",
    "train_y = train.iloc[:, -1]\n",
    "dev_X = dev.iloc[:, :-1]\n",
    "dev_y = dev.iloc[:, -1]\n",
    "train_acc_array = []\n",
    "dev_acc_array = []\n",
    "    \n",
    "for regularizer in regularizers:\n",
    "    weight, train_acc, dev_acc = logistic_regression(train_X, train_y, 0.01, regularizer, dev_X, dev_y)\n",
    "    train_acc_array.append(round(train_acc, 3))\n",
    "    dev_acc_array.append(round(dev_acc, 3))\n",
    "    weight_dict[regularizer] = weight\n",
    "\n",
    "train_acc_df = pd.DataFrame({'regularizers': regularizers, 'accuracy': train_acc_array})\n",
    "dev_acc_df = pd.DataFrame({'regularizers': regularizers, 'accuracy': dev_acc_array})"
   ]
  },
  {
   "cell_type": "markdown",
   "id": "891ef9b7",
   "metadata": {},
   "source": [
    "###### Plot the accuracy curves"
   ]
  },
  {
   "cell_type": "code",
   "execution_count": 21,
   "id": "15685994",
   "metadata": {
    "scrolled": true
   },
   "outputs": [
    {
     "name": "stdout",
     "output_type": "stream",
     "text": [
      "Regularization Plot...\t\n",
      "Done.\n",
      "\n"
     ]
    },
    {
     "data": {
      "image/png": "[encoded data removed]",
      "text/plain": [
       "<Figure size 576x432 with 1 Axes>"
      ]
     },
     "metadata": {
      "needs_background": "light"
     },
     "output_type": "display_data"
    }
   ],
   "source": [
    "print('Regularization Plot...\\t')\n",
    "\n",
    "fig, ax3 = plt.subplots(figsize=(8, 6), tight_layout=True)\n",
    "ax3.semilogx(train_acc_df.regularizers, train_acc_df.accuracy,\n",
    "             color='r', marker='o', markerfacecolor='m', zorder=1.5, alpha=0.5)\n",
    "\n",
    "ax3.semilogx(dev_acc_df.regularizers, dev_acc_df.accuracy,\n",
    "             color='b', marker='x', markerfacecolor='r', zorder=1.5, alpha=0.5)\n",
    "\n",
    "min_axis = min(train_acc_df.accuracy.min(), dev_acc_df.accuracy.min())\n",
    "max_axis = max(train_acc_df.accuracy.max(), dev_acc_df.accuracy.max())\n",
    "\n",
    "ax3.set_ylabel(f'accuracy', color='r')\n",
    "ax3.set_xlabel(f'$\\\\lambda$, regularization size')\n",
    "ax3.set_xlim([1e-4, 1e4])\n",
    "ax3.set_ylim(0.495, 0.8)\n",
    "ax3.set_title(f\"$\\\\mathcal{{L}}_2$, $\\\\alpha = {0.01}$, epochs = {10000}: Classification Accuracy\",\n",
    "              color='k', weight='normal', size=10)\n",
    "ax3.legend([\"training\", \"validation\"], loc=\"lower left\")\n",
    "\n",
    "plt.savefig(\"l1_train_dev_acc_cmp.jpg\")\n",
    "print('Done.\\n')"
   ]
  },
  {
   "cell_type": "markdown",
   "id": "8e711618",
   "metadata": {},
   "source": [
    "#######  The training class accuracy remain approximately constant for a while, then generally reduces as we increase lambda(10^-2, 10^4). This is the case because, increase in lambda, directly increase the loss function and hence approximation error. The validation class accuracy also remain approximately constant for a while (for lambda from 10^-4 to 10^-1), then it sharply reduced and stayed approximately constant at this value for the rest of the regularization parameters in these range. The best validation accuracy in this range  is lambda = 10^-3 with an accuracy of 76.97%. This is illustrated in the figure below."
   ]
  },
  {
   "cell_type": "markdown",
   "id": "63c77b36",
   "metadata": {},
   "source": [
    "#### Part 3(b): Report for each of the three lambda values, the resulting model's top 5 features with the largest weight magnitude "
   ]
  },
  {
   "cell_type": "code",
   "execution_count": 23,
   "id": "db86e49b",
   "metadata": {},
   "outputs": [
    {
     "name": "stdout",
     "output_type": "stream",
     "text": [
      "Top 5 features and their corresponding weights for lambda=0.0001\n",
      "Previously_Insured         -2.192550\n",
      "Vehicle_Damage              1.890561\n",
      "Policy_Sales_Channel_152   -0.708503\n",
      "Vehicle_Age_1              -0.655143\n",
      "Policy_Sales_Channel_160   -0.609874\n",
      "dtype: float64 \n",
      "\n",
      "Top 5 features and their corresponding weights for lambda=0.001\n",
      "Previously_Insured         -2.112892\n",
      "Vehicle_Damage              1.836570\n",
      "Policy_Sales_Channel_152   -0.687872\n",
      "Vehicle_Age_1              -0.634887\n",
      "Policy_Sales_Channel_160   -0.584882\n",
      "dtype: float64 \n",
      "\n",
      "Top 5 features and their corresponding weights for lambda=0.01\n",
      "Previously_Insured         -1.583421\n",
      "Vehicle_Damage              1.466526\n",
      "Policy_Sales_Channel_152   -0.545381\n",
      "dummy                      -0.545281\n",
      "Vehicle_Age_1              -0.495377\n",
      "dtype: float64 \n",
      "\n"
     ]
    }
   ],
   "source": [
    "for lambd in [1e-4, 1e-3, 1e-2]:\n",
    "    weight_ = weight_dict[lambd]\n",
    "    sortedweight = weight_.abs().sort_values(ascending=False)[:5]\n",
    "    biggest_weights = weight_.loc[list(sortedweight.index.values)]\n",
    "    print(\"Top 5 features and their corresponding weights for lambda={}\".format(lambd)) \n",
    "    print(biggest_weights, \"\\n\")"
   ]
  },
  {
   "cell_type": "markdown",
   "id": "af57e0de",
   "metadata": {},
   "source": [
    "####### The resulting top five features with respect to their weight magnitude are illustrated below with lambda values of\n",
    "10^-4, 10^-3 and 10^-2. Interestingly, in this range, there is no much difference in the selected top 5 features. However,\n",
    "as the value of lambda increases outside this range, the top features gradually begin to differ. This can be interpreted \n",
    "as automatic feature mapping during the regression process. The optimization process automatically associates the most important features with larger weights relative to the other features."
   ]
  },
  {
   "cell_type": "markdown",
   "id": "d2ef6d13",
   "metadata": {},
   "source": [
    "#### Part3(c): Compute the sparsity of the model and plot it as a function of lambda"
   ]
  },
  {
   "cell_type": "code",
   "execution_count": 28,
   "id": "8b9c0e23",
   "metadata": {},
   "outputs": [
    {
     "data": {
      "image/png": "[encoded data removed]",
      "text/plain": [
       "<Figure size 576x432 with 1 Axes>"
      ]
     },
     "metadata": {
      "needs_background": "light"
     },
     "output_type": "display_data"
    }
   ],
   "source": [
    "nz_weight_count = []\n",
    "regs = []\n",
    "\n",
    "for key in weight_dict.keys():\n",
    "    nz_weight_count.append(np.count_nonzero(weight_dict[key]==0) or np.count_nonzero(np.isnan(weight_dict[key])))\n",
    "    regs.append(str(key))\n",
    "\n",
    "fig, ax = plt.subplots(figsize=(8, 6), tight_layout=True)\n",
    "ax.bar(regs, nz_weight_count)\n",
    "plt.title('Sparsity for different \\u03BB')\n",
    "plt.savefig('l1_sparsity.jpg')"
   ]
  },
  {
   "cell_type": "markdown",
   "id": "41226d7c",
   "metadata": {},
   "source": [
    "######## As lambda increases, the weights becomes sparser; if lambda increases, sparsity is expected to increase even more. These trends are similar to what we have seen in 1(c). However, in L1 regularization, the sparsity increases rapidly from lambda >= 10^-4, which is faster than L2 regularization. But as lambda increases towards infinity, both penalties for weights become too heavy and all feature weights will become 0."
   ]
  },
  {
   "cell_type": "code",
   "execution_count": null,
   "id": "66241fd4",
   "metadata": {},
   "outputs": [],
   "source": []
  }
 ],
 "metadata": {
  "kernelspec": {
   "display_name": "Python 3 (ipykernel)",
   "language": "python",
   "name": "python3"
  },
  "language_info": {
   "codemirror_mode": {
    "name": "ipython",
    "version": 3
   },
   "file_extension": ".py",
   "mimetype": "text/x-python",
   "name": "python",
   "nbconvert_exporter": "python",
   "pygments_lexer": "ipython3",
   "version": "3.9.12"
  }
 },
 "nbformat": 4,
 "nbformat_minor": 5
}
